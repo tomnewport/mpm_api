{
 "cells": [
  {
   "cell_type": "markdown",
   "metadata": {
    "deletable": true,
    "editable": true
   },
   "source": [
    "## The MemProtMD API\n",
    "The MemProtMD API connects the MemProtMD database to applications such\n",
    "as this site. The API is free to use for any application, provided data\n",
    "obtained through it is properly attributed.\n",
    "\n",
    "### General notes\n",
    "We recommend using [Postman](https://www.getpostman.com/) to check that\n",
    "the API methods shown here behave as expected. Postman can also output\n",
    "code snippets in a number of languages for pipeline applications. Examples\n",
    "in this guide use Python's Requests library."
   ]
  },
  {
   "cell_type": "markdown",
   "metadata": {
    "deletable": true,
    "editable": true
   },
   "source": [
    "### The MemProtMD Data Model\n",
    "\n",
    "MemProtMD deals with a few different data types. It's worth understanding what these are before diving in:\n",
    "\n",
    "#### Simulation\n",
    "\n",
    "Each **simulation** is a simulation set up and run through the MemProtMD pipeline. The simulation has a Coarse-Grained Self-Assembley, Coarse-Grained Dynamics and Atomistic stage. Each simulation is linked to one **reference**.\n",
    "\n",
    "#### Reference\n",
    "\n",
    "Each **reference** is a reference to an accession in an external database, such as the Protein DataBank. It will have a unique identifier, which is the database abbreviation (e.g. PDB), the pipe (|) symbol and the accession code from that database. Record 1a0s from the Protein DataBank is therefore `PDB|1a0s`. Records typically also have a title, list of simulation IDs, `parent` reference (where the reference falls into a tree structure), `member_of` list (if it is a member of a broader database reference) and a `collection_members` list (the inverse of the `member_of` list).\n",
    "\n",
    "## The MemProtMD JSON/MongoDB API\n",
    "\n",
    "The MemProtMD JSON/MongoDB API aims to securely expose as much functionality as possible from the underlying MongoDB collections. Data is sent to the server in the body of an HTTP POST request as JSON and returned via HTTP response as JSON. The status of the response will be `200` for sucessful requests or `400` for unsuccessful requests. The reason for failure should be detailed in the JSON response.\n",
    "\n",
    "There are three collections which can be queried using the JSON API - `simulations`, `refs` and `authors`.\n",
    "\n",
    "First off, we'll import the Python requests library and set the root URI for the MemProtMD site."
   ]
  },
  {
   "cell_type": "code",
   "execution_count": 1,
   "metadata": {
    "collapsed": true,
    "deletable": true,
    "editable": true
   },
   "outputs": [],
   "source": [
    "import requests"
   ]
  },
  {
   "cell_type": "code",
   "execution_count": 2,
   "metadata": {
    "collapsed": true,
    "deletable": true,
    "editable": true
   },
   "outputs": [],
   "source": [
    "MEMPROTMD_ROOT_URI = \"http://memprotmd.bioch.ox.ac.uk/\""
   ]
  },
  {
   "cell_type": "markdown",
   "metadata": {
    "collapsed": true,
    "deletable": true,
    "editable": true
   },
   "source": [
    "#### Bulk Operations\n",
    "\n",
    "Often you might want to do grab a complete list of references or simulations from MemProtMD. These come with only the most commonly used fields so you may need to make additional requests (see below) to fill in details for other fields.\n",
    "\n",
    "**All simulations** POST to http://memprotmd.bioch.ox.ac.uk/api/simulations/all with no parameters.\n",
    "\n",
    "**All references** POST to http://memprotmd.bioch.ox.ac.uk/api/references/all/ with no parameters. You can optionally restrict this list to specific databases by adding the database name to the end of the URI, e.g. http://memprotmd.bioch.ox.ac.uk/api/references/all/Pfam for the Pfam database.\n",
    "\n",
    "These Python examples will show only the first item from the returned list:"
   ]
  },
  {
   "cell_type": "code",
   "execution_count": 3,
   "metadata": {
    "collapsed": false,
    "deletable": true,
    "editable": true
   },
   "outputs": [
    {
     "data": {
      "text/plain": [
       "{'_id': '4jbw_default_dppc',\n",
       " 'accession': '4jbw',\n",
       " 'composition': {'DPPC': 100},\n",
       " 'db': 'PDB',\n",
       " 'sim_validate': {'n_frames': 4001}}"
      ]
     },
     "execution_count": 3,
     "metadata": {},
     "output_type": "execute_result"
    }
   ],
   "source": [
    "def get_all_memprotmd_simulations():\n",
    "    return requests.post(MEMPROTMD_ROOT_URI + \"api/simulations/all\").json()\n",
    "\n",
    "get_all_memprotmd_simulations()[0]"
   ]
  },
  {
   "cell_type": "code",
   "execution_count": 4,
   "metadata": {
    "collapsed": false,
    "deletable": true,
    "editable": true
   },
   "outputs": [
    {
     "data": {
      "text/plain": [
       "{'_id': 'GO|GO:0035774',\n",
       " 'accession': 'GO:0035774',\n",
       " 'db': 'GO',\n",
       " 'n_simulations': 2,\n",
       " 'simulations': ['5u71_default_dppc', '5uak_default_dppc'],\n",
       " 'subtitle': 'Biological process - Positive regulation of insulin secretion involved in cellular response to glucose stimulus',\n",
       " 'title': 'Positive regulation of insulin secretion involved in cellular response to glucose stimulus'}"
      ]
     },
     "execution_count": 4,
     "metadata": {},
     "output_type": "execute_result"
    }
   ],
   "source": [
    "def get_all_memprotmd_references(database=\"\"):\n",
    "    return requests.post(MEMPROTMD_ROOT_URI + \"api/references/all/\" + database).json()\n",
    "\n",
    "get_all_memprotmd_references(\"GO\")[0]"
   ]
  },
  {
   "cell_type": "markdown",
   "metadata": {
    "deletable": true,
    "editable": true
   },
   "source": [
    "#### Full data for a reference or simulation\n",
    "\n",
    "In this case the full database record is returned.\n",
    "\n",
    "**Full data for a simulation** POST to http://memprotmd.bioch.ox.ac.uk/api/simulations/[sim_id]\n",
    "\n",
    "**Full data for a reference** POST to http://memprotmd.bioch.ox.ac.uk/api/references/[database_id]/[sim_id]\n",
    "\n",
    "The Python examples below show how you'd use this in practice:"
   ]
  },
  {
   "cell_type": "code",
   "execution_count": 5,
   "metadata": {
    "collapsed": false,
    "deletable": true,
    "editable": true,
    "scrolled": true
   },
   "outputs": [
    {
     "data": {
      "text/plain": [
       "{'_id': '1a0s_default_dppc',\n",
       " 'accession': '1a0s',\n",
       " 'chains': [{'chainID': 'P',\n",
       "   'count': 1,\n",
       "   'tm_alpha': 0,\n",
       "   'tm_alpha_lipid': 0,\n",
       "   'tm_alpha_protein': 0,\n",
       "   'tm_alpha_solvent': 0,\n",
       "   'tm_beta': 15,\n",
       "   'tm_beta_lipid': 10,\n",
       "   'tm_beta_protein': 0,\n",
       "   'tm_beta_solvent': 5,\n",
       "   'type': 'membrane spanning'},\n",
       "  {'chainID': 'Q',\n",
       "   'count': 1,\n",
       "   'tm_alpha': 0,\n",
       "   'tm_alpha_lipid': 0,\n",
       "   'tm_alpha_protein': 0,\n",
       "   'tm_alpha_solvent': 0,\n",
       "   'tm_beta': 16,\n",
       "   'tm_beta_lipid': 10,\n",
       "   'tm_beta_protein': 1,\n",
       "   'tm_beta_solvent': 5,\n",
       "   'type': 'membrane spanning'},\n",
       "  {'chainID': 'R',\n",
       "   'count': 1,\n",
       "   'tm_alpha': 0,\n",
       "   'tm_alpha_lipid': 0,\n",
       "   'tm_alpha_protein': 0,\n",
       "   'tm_alpha_solvent': 0,\n",
       "   'tm_beta': 16,\n",
       "   'tm_beta_lipid': 10,\n",
       "   'tm_beta_protein': 1,\n",
       "   'tm_beta_solvent': 5,\n",
       "   'type': 'membrane spanning'}],\n",
       " 'composition': {'DPPC': 100},\n",
       " 'db': 'PDB',\n",
       " 'db_version': '2017-02-07T03:45:49',\n",
       " 'images': {'bottom-cartoon': 'simulations/1a0s_default_dppc/images/bottom-cartoon.jpg',\n",
       "  'bottom-distortions': 'simulations/1a0s_default_dppc/images/bottom-distortions.jpg',\n",
       "  'front-at_lipids': 'simulations/1a0s_default_dppc/images/front-at_lipids.jpg',\n",
       "  'front-cartoon': 'simulations/1a0s_default_dppc/images/front-cartoon.jpg',\n",
       "  'front-cg_lipids': 'simulations/1a0s_default_dppc/images/front-cg_lipids.jpg',\n",
       "  'front-contacts-head-cartoon': 'simulations/1a0s_default_dppc/images/front-contacts-head-cartoon.jpg',\n",
       "  'front-contacts-head-surface': 'simulations/1a0s_default_dppc/images/front-contacts-head-surface.jpg',\n",
       "  'front-contacts-solvent-cartoon': 'simulations/1a0s_default_dppc/images/front-contacts-solvent-cartoon.jpg',\n",
       "  'front-contacts-solvent-surface': 'simulations/1a0s_default_dppc/images/front-contacts-solvent-surface.jpg',\n",
       "  'front-contacts-tail-cartoon': 'simulations/1a0s_default_dppc/images/front-contacts-tail-cartoon.jpg',\n",
       "  'front-contacts-tail-surface': 'simulations/1a0s_default_dppc/images/front-contacts-tail-surface.jpg',\n",
       "  'front-distortions': 'simulations/1a0s_default_dppc/images/front-distortions.jpg',\n",
       "  'thumb_100': 'simulations/1a0s_default_dppc/images/thumb_100.jpg',\n",
       "  'thumb_250': 'simulations/1a0s_default_dppc/images/thumb_250.jpg',\n",
       "  'thumb_50': 'simulations/1a0s_default_dppc/images/thumb_50.jpg',\n",
       "  'top-cartoon': 'simulations/1a0s_default_dppc/images/top-cartoon.jpg',\n",
       "  'top-distortions': 'simulations/1a0s_default_dppc/images/top-distortions.jpg'},\n",
       " 'last_update_time': 0,\n",
       " 'leaflet_summary': {'lower': 0.4439420251364832,\n",
       "  'n_lower_to_upper': 0,\n",
       "  'n_upper_to_lower': 0,\n",
       "  'upper': 0.5548101942531117},\n",
       " 'n_chains': 3,\n",
       " 'ref_key': 'PDB|1a0s',\n",
       " 'sim_complete_time': 1478790592,\n",
       " 'sim_validate': {'n_frames': 4001,\n",
       "  'n_lipid_molecules': 437,\n",
       "  'n_protein_residues': 1239,\n",
       "  'tm_span': 40},\n",
       " 'thinning': {'annular_mid': 44.01506519317627,\n",
       "  'annular_thickness': 32.78035545349121,\n",
       "  'bulk_mid': 44.64772033691406,\n",
       "  'bulk_thickness': 40.27314758300781,\n",
       "  'mid_diff': -0.632655143737793,\n",
       "  'thickness_diff': -7.492792129516602}}"
      ]
     },
     "execution_count": 5,
     "metadata": {},
     "output_type": "execute_result"
    }
   ],
   "source": [
    "def get_memprotmd_simulation(sim_id):\n",
    "    return requests.post(\n",
    "        MEMPROTMD_ROOT_URI \n",
    "        + \"api/simulations/{sim_id}\".format(\n",
    "            sim_id = sim_id\n",
    "        )).json()\n",
    "get_memprotmd_simulation(\"1a0s_default_dppc\")"
   ]
  },
  {
   "cell_type": "code",
   "execution_count": 6,
   "metadata": {
    "collapsed": false,
    "deletable": true,
    "editable": true
   },
   "outputs": [
    {
     "data": {
      "text/plain": [
       "{'_id': 'PDB|4wit',\n",
       " 'accession': '4wit',\n",
       " 'all_authors': ['Lim, N.K.',\n",
       "  'Duerst, A.',\n",
       "  'Brunner, J.D.',\n",
       "  'Schenck, S.',\n",
       "  'Dutzler, R.'],\n",
       " 'copyright': {'license': 'PDB',\n",
       "  'origin': 'http://www.rcsb.org/pdb/explore/explore.do?structureId=4wit',\n",
       "  'owner': 'Research Collaboration for Structural Biology, Lim, N.K., Duerst, A., Brunner, J.D., Schenck, S., Dutzler, R.',\n",
       "  'terms': 'http://www.rcsb.org/pdb/static.do?p=general_information/about_pdb/pdb_advisory.html'},\n",
       " 'db': 'PDB',\n",
       " 'db_version': '2017-02-07T03:45:49',\n",
       " 'entities': [{'chains': ['A', 'B'],\n",
       "   'description': 'Predicted protein',\n",
       "   'refs': [{'accession': 'C7Z7K1',\n",
       "     'db': 'UniProt',\n",
       "     'key': 'UniProt|C7Z7K1',\n",
       "     'valid': True}],\n",
       "   'type': 'protein'}],\n",
       " 'experimental_method': 'X-RAY DIFFRACTION',\n",
       " 'first_published': '2014-11-12',\n",
       " 'href': 'http://www.rcsb.org/pdb/explore/explore.do?structureId=4wit',\n",
       " 'in_collections': [{'accession': '1',\n",
       "   'db': 'TCDB',\n",
       "   'key': 'TCDB|1',\n",
       "   'level': 1},\n",
       "  {'accession': '1.A', 'db': 'TCDB', 'key': 'TCDB|1.A', 'level': 2},\n",
       "  {'accession': '1.A.17', 'db': 'TCDB', 'key': 'TCDB|1.A.17', 'level': 3},\n",
       "  {'accession': '1.A.17.1', 'db': 'TCDB', 'key': 'TCDB|1.A.17.1', 'level': 4},\n",
       "  {'accession': '1.A.17.1.18',\n",
       "   'db': 'TCDB',\n",
       "   'key': 'TCDB|1.A.17.1.18',\n",
       "   'level': 5},\n",
       "  {'accession': 'protein-4wis',\n",
       "   'db': 'mpstruc',\n",
       "   'key': 'mpstruc|protein-4wis',\n",
       "   'level': 4},\n",
       "  {'accession': 'tmem16-family-proteins',\n",
       "   'db': 'mpstruc',\n",
       "   'key': 'mpstruc|tmem16-family-proteins',\n",
       "   'level': 3},\n",
       "  {'accession': 'transmembrane-proteins-alpha-helical',\n",
       "   'db': 'mpstruc',\n",
       "   'key': 'mpstruc|transmembrane-proteins-alpha-helical',\n",
       "   'level': 2},\n",
       "  {'accession': 'mpstruc',\n",
       "   'db': 'mpstruc',\n",
       "   'key': 'mpstruc|mpstruc',\n",
       "   'level': 1},\n",
       "  {'accession': 'C7Z7K1',\n",
       "   'chains': ['A', 'B'],\n",
       "   'db': 'UniProt',\n",
       "   'key': 'UniProt|C7Z7K1'},\n",
       "  {'accession': 'GO:0016021',\n",
       "   'chains': ['A', 'B'],\n",
       "   'db': 'GO',\n",
       "   'key': 'GO|GO:0016021'},\n",
       "  {'accession': 'GO:0046872',\n",
       "   'chains': ['A', 'B'],\n",
       "   'db': 'GO',\n",
       "   'key': 'GO|GO:0046872'},\n",
       "  {'accession': 'PF04547',\n",
       "   'chains': ['A', 'B'],\n",
       "   'db': 'Pfam',\n",
       "   'key': 'Pfam|PF04547'},\n",
       "  {'accession': 'membrane_proteins',\n",
       "   'db': 'mpm',\n",
       "   'key': 'mpm|membrane_proteins',\n",
       "   'score': 100},\n",
       "  {'accession': 'alpha_helical',\n",
       "   'db': 'mpm',\n",
       "   'key': 'mpm|alpha_helical',\n",
       "   'score': 300}],\n",
       " 'is_structure': True,\n",
       " 'keywords': ['membrane protein',\n",
       "  'calcium activation',\n",
       "  'transport protein',\n",
       "  'lipid transport'],\n",
       " 'keywords_string': 'Membrane Protein, Calcium Activation, Transport Protein, Lipid Transport',\n",
       " 'ligands': [{'description': 'CALCIUM ION', 'ligand_id': 'CA'}],\n",
       " 'mpm_type': 'structure',\n",
       " 'n_simulations': 1,\n",
       " 'needs_update': False,\n",
       " 'organism': {'common_name': None,\n",
       "  'count': 1,\n",
       "  'scientific_name': 'Nectria haematococca (strain 77-13-4 / ATCC MYA-4622 / FGSC 9596 / MPVI)',\n",
       "  'taxon_ncbi': '660122'},\n",
       " 'parent': 'mpstruc|protein-4wis',\n",
       " 'primary_authors': ['Lim, N.K.',\n",
       "  'Duerst, A.',\n",
       "  'Brunner, J.D.',\n",
       "  'Schenck, S.',\n",
       "  'Dutzler, R.'],\n",
       " 'primary_citation': {'DOI': '10.1038/nature13984',\n",
       "  'journal': 'Nature',\n",
       "  'title': 'X-ray structure of a calcium-activated TMEM16 lipid scramblase.',\n",
       "  'year': '2014'},\n",
       " 'ref_key': 'PDB|4wit',\n",
       " 'resolution': '3.400',\n",
       " 'sim_chains_meta': [{'chainID': 'A',\n",
       "   'tm': 'membrane spanning',\n",
       "   'tm_ss': 'alpha'},\n",
       "  {'chainID': 'B', 'tm': 'membrane spanning', 'tm_ss': 'alpha'}],\n",
       " 'simulations': ['4wit_default_dppc'],\n",
       " 'subtitle': 'TMEM16 lipid scramblase in crystal form 2',\n",
       " 'title': 'TMEM16 Ca<sup>2+</sup>-activated lipid scramblase, crystal form 1',\n",
       " 'tree': [['mpstruc|mpstruc', None],\n",
       "  ['mpstruc|monotopic-membrane-proteins', 'mpstruc|mpstruc'],\n",
       "  ['mpstruc|transmembrane-proteins-beta-barrel', 'mpstruc|mpstruc'],\n",
       "  ['mpstruc|transmembrane-proteins-alpha-helical', 'mpstruc|mpstruc'],\n",
       "  ['mpstruc|adventitious-membrane-proteins-alpha-helical-pore-forming-toxins',\n",
       "   'mpstruc|transmembrane-proteins-alpha-helical'],\n",
       "  ['mpstruc|de-novo-designed-membrane-proteins',\n",
       "   'mpstruc|transmembrane-proteins-alpha-helical'],\n",
       "  ['mpstruc|bacterial-cell-divison-proteins',\n",
       "   'mpstruc|transmembrane-proteins-alpha-helical'],\n",
       "  ['mpstruc|bacterial-and-algal-rhodopsins',\n",
       "   'mpstruc|transmembrane-proteins-alpha-helical'],\n",
       "  ['mpstruc|novel-receptors', 'mpstruc|transmembrane-proteins-alpha-helical'],\n",
       "  ['mpstruc|g-protein-coupled-receptors-gpcrs',\n",
       "   'mpstruc|transmembrane-proteins-alpha-helical'],\n",
       "  ['mpstruc|tetraspanins', 'mpstruc|transmembrane-proteins-alpha-helical'],\n",
       "  ['mpstruc|adiponectin-receptors',\n",
       "   'mpstruc|transmembrane-proteins-alpha-helical'],\n",
       "  ['mpstruc|virus-coat-proteins',\n",
       "   'mpstruc|transmembrane-proteins-alpha-helical'],\n",
       "  ['mpstruc|glycoproteins', 'mpstruc|transmembrane-proteins-alpha-helical'],\n",
       "  ['mpstruc|receptor-tyrosine-kinase-rtk-family',\n",
       "   'mpstruc|transmembrane-proteins-alpha-helical'],\n",
       "  ['mpstruc|tumor-necrosis-factor-tnf-receptor-superfamily',\n",
       "   'mpstruc|transmembrane-proteins-alpha-helical'],\n",
       "  ['mpstruc|epidermal-growth-factor-receptors',\n",
       "   'mpstruc|transmembrane-proteins-alpha-helical'],\n",
       "  ['mpstruc|erythropoietin-producing-hepatocellular-receptors',\n",
       "   'mpstruc|transmembrane-proteins-alpha-helical'],\n",
       "  ['mpstruc|fibroblast-growth-factor-receptors',\n",
       "   'mpstruc|transmembrane-proteins-alpha-helical'],\n",
       "  ['mpstruc|vascular-endothelial-growth-factor-receptors',\n",
       "   'mpstruc|transmembrane-proteins-alpha-helical'],\n",
       "  ['mpstruc|integrin-adhesion-receptors',\n",
       "   'mpstruc|transmembrane-proteins-alpha-helical'],\n",
       "  ['mpstruc|histidine-kinase-receptors',\n",
       "   'mpstruc|transmembrane-proteins-alpha-helical'],\n",
       "  ['mpstruc|immune-receptors', 'mpstruc|transmembrane-proteins-alpha-helical'],\n",
       "  ['mpstruc|snare-protein-family',\n",
       "   'mpstruc|transmembrane-proteins-alpha-helical'],\n",
       "  ['mpstruc|claudins', 'mpstruc|transmembrane-proteins-alpha-helical'],\n",
       "  ['mpstruc|tmem16-family-proteins',\n",
       "   'mpstruc|transmembrane-proteins-alpha-helical'],\n",
       "  ['mpstruc|channels-mechanosensitive',\n",
       "   'mpstruc|transmembrane-proteins-alpha-helical'],\n",
       "  ['mpstruc|channels-potassium-sodium-proton-ion-selective',\n",
       "   'mpstruc|transmembrane-proteins-alpha-helical'],\n",
       "  ['mpstruc|channels-calcium-ion-selective',\n",
       "   'mpstruc|transmembrane-proteins-alpha-helical'],\n",
       "  ['mpstruc|channels-transient-receptor-potential-trp',\n",
       "   'mpstruc|transmembrane-proteins-alpha-helical'],\n",
       "  ['mpstruc|channels-other-ion-channels',\n",
       "   'mpstruc|transmembrane-proteins-alpha-helical'],\n",
       "  ['mpstruc|channels-fluc-family',\n",
       "   'mpstruc|transmembrane-proteins-alpha-helical'],\n",
       "  ['mpstruc|cys-loop-receptor-family',\n",
       "   'mpstruc|transmembrane-proteins-alpha-helical'],\n",
       "  ['mpstruc|channels-aquaporins-and-glyceroporins',\n",
       "   'mpstruc|transmembrane-proteins-alpha-helical'],\n",
       "  ['mpstruc|channels-formate-nitrite-transporter-fnt-family',\n",
       "   'mpstruc|transmembrane-proteins-alpha-helical'],\n",
       "  ['mpstruc|channels-urea-transporters',\n",
       "   'mpstruc|transmembrane-proteins-alpha-helical'],\n",
       "  ['mpstruc|channels-gap-junctions',\n",
       "   'mpstruc|transmembrane-proteins-alpha-helical'],\n",
       "  ['mpstruc|channels-amt-mep-rh-proteins',\n",
       "   'mpstruc|transmembrane-proteins-alpha-helical'],\n",
       "  ['mpstruc|sec-and-translocase-proteins',\n",
       "   'mpstruc|transmembrane-proteins-alpha-helical'],\n",
       "  ['mpstruc|celluose-synthases',\n",
       "   'mpstruc|transmembrane-proteins-alpha-helical'],\n",
       "  ['mpstruc|pnpt-superfamily', 'mpstruc|transmembrane-proteins-alpha-helical'],\n",
       "  ['mpstruc|oligosaccharyltransferases-ost',\n",
       "   'mpstruc|transmembrane-proteins-alpha-helical'],\n",
       "  ['mpstruc|glycosyltransfereases',\n",
       "   'mpstruc|transmembrane-proteins-alpha-helical'],\n",
       "  ['mpstruc|diacylglyceryl-transferases',\n",
       "   'mpstruc|transmembrane-proteins-alpha-helical'],\n",
       "  ['mpstruc|intramembrane-proteases',\n",
       "   'mpstruc|transmembrane-proteins-alpha-helical'],\n",
       "  ['mpstruc|h-sup-sup-cl-sup-sup-exchange-transporters',\n",
       "   'mpstruc|transmembrane-proteins-alpha-helical'],\n",
       "  ['mpstruc|cora-superfamily-ion-transporters',\n",
       "   'mpstruc|transmembrane-proteins-alpha-helical'],\n",
       "  ['mpstruc|bacterial-mercury-detoxification-proteins',\n",
       "   'mpstruc|transmembrane-proteins-alpha-helical'],\n",
       "  ['mpstruc|rhodaneses', 'mpstruc|transmembrane-proteins-alpha-helical'],\n",
       "  ['mpstruc|multi-drug-efflux-transporters',\n",
       "   'mpstruc|transmembrane-proteins-alpha-helical'],\n",
       "  ['mpstruc|drug-metabolite-transporter-dmt-superfamily',\n",
       "   'mpstruc|transmembrane-proteins-alpha-helical'],\n",
       "  ['mpstruc|abgt-family-of-transporters',\n",
       "   'mpstruc|transmembrane-proteins-alpha-helical'],\n",
       "  ['mpstruc|membrane-associated-proteins-in-eicosanoid-and-glutathione-metabolism-mapeg',\n",
       "   'mpstruc|transmembrane-proteins-alpha-helical'],\n",
       "  ['mpstruc|sweet-and-semisweet-transporters-and-their-relatives',\n",
       "   'mpstruc|transmembrane-proteins-alpha-helical'],\n",
       "  ['mpstruc|major-facilitator-superfamily-mfs-transporters',\n",
       "   'mpstruc|transmembrane-proteins-alpha-helical'],\n",
       "  ['mpstruc|solute-sodium-symporter-sss-family',\n",
       "   'mpstruc|transmembrane-proteins-alpha-helical'],\n",
       "  ['mpstruc|solute-carrier-slc-transporter-superfamily',\n",
       "   'mpstruc|transmembrane-proteins-alpha-helical'],\n",
       "  ['mpstruc|ca-sup-2-sup-cation-antiporter-caca-family',\n",
       "   'mpstruc|transmembrane-proteins-alpha-helical'],\n",
       "  ['mpstruc|nucleobase-cation-symport-1-ncs1-family',\n",
       "   'mpstruc|transmembrane-proteins-alpha-helical'],\n",
       "  ['mpstruc|nucleobase-cation-symport-2-ncs2-family',\n",
       "   'mpstruc|transmembrane-proteins-alpha-helical'],\n",
       "  ['mpstruc|solute-carrier-family-4-anion-exchanger',\n",
       "   'mpstruc|transmembrane-proteins-alpha-helical'],\n",
       "  ['mpstruc|betaine-choline-carnitine-transporter-bcct-family',\n",
       "   'mpstruc|transmembrane-proteins-alpha-helical'],\n",
       "  ['mpstruc|amino-acid-polyamine-organocation-apc-superfamily',\n",
       "   'mpstruc|transmembrane-proteins-alpha-helical'],\n",
       "  ['mpstruc|amino-acid-secondary-transporters',\n",
       "   'mpstruc|transmembrane-proteins-alpha-helical'],\n",
       "  ['mpstruc|cation-diffusion-facilitator-cdf-family',\n",
       "   'mpstruc|transmembrane-proteins-alpha-helical'],\n",
       "  ['mpstruc|antiporters', 'mpstruc|transmembrane-proteins-alpha-helical'],\n",
       "  ['mpstruc|apical-sodium-dependent-bile-acid-transporters-asbt',\n",
       "   'mpstruc|transmembrane-proteins-alpha-helical'],\n",
       "  ['mpstruc|energy-coupling-factor-ecf-transporters',\n",
       "   'mpstruc|transmembrane-proteins-alpha-helical'],\n",
       "  ['mpstruc|atp-binding-cassette-abc-transporters',\n",
       "   'mpstruc|transmembrane-proteins-alpha-helical'],\n",
       "  ['mpstruc|methyltransferases',\n",
       "   'mpstruc|transmembrane-proteins-alpha-helical'],\n",
       "  ['mpstruc|phosphoenolpyruvate-dependent-phosphotransferases-ptss',\n",
       "   'mpstruc|transmembrane-proteins-alpha-helical'],\n",
       "  ['mpstruc|cdp-alcohol-phosphotransferases',\n",
       "   'mpstruc|transmembrane-proteins-alpha-helical'],\n",
       "  ['mpstruc|insulin-induced-gene-products-insig-proteins',\n",
       "   'mpstruc|transmembrane-proteins-alpha-helical'],\n",
       "  ['mpstruc|sterol-reductases',\n",
       "   'mpstruc|transmembrane-proteins-alpha-helical'],\n",
       "  ['mpstruc|sterol-sensing-domain-ssd-proteins',\n",
       "   'mpstruc|transmembrane-proteins-alpha-helical'],\n",
       "  ['mpstruc|fatty-acid-desaturases',\n",
       "   'mpstruc|transmembrane-proteins-alpha-helical'],\n",
       "  ['mpstruc|superfamily-of-k-sup-sup-transporters-skt-proteins',\n",
       "   'mpstruc|transmembrane-proteins-alpha-helical'],\n",
       "  ['mpstruc|membrane-integral-pyrophosphatases-m-ppases',\n",
       "   'mpstruc|transmembrane-proteins-alpha-helical'],\n",
       "  ['mpstruc|bacterial-v-type-atpase',\n",
       "   'mpstruc|transmembrane-proteins-alpha-helical'],\n",
       "  ['mpstruc|vacuolar-atpase-v-atpase',\n",
       "   'mpstruc|transmembrane-proteins-alpha-helical'],\n",
       "  ['mpstruc|f-type-atpase', 'mpstruc|transmembrane-proteins-alpha-helical'],\n",
       "  ['mpstruc|p-type-atpase', 'mpstruc|transmembrane-proteins-alpha-helical'],\n",
       "  ['mpstruc|phosphotransferases',\n",
       "   'mpstruc|transmembrane-proteins-alpha-helical'],\n",
       "  ['mpstruc|hydrolases', 'mpstruc|transmembrane-proteins-alpha-helical'],\n",
       "  ['mpstruc|oxygenases', 'mpstruc|transmembrane-proteins-alpha-helical'],\n",
       "  ['mpstruc|transhydrogenases',\n",
       "   'mpstruc|transmembrane-proteins-alpha-helical'],\n",
       "  ['mpstruc|mo-w-em-bis-em-mgd-oxidoreductases',\n",
       "   'mpstruc|transmembrane-proteins-alpha-helical'],\n",
       "  ['mpstruc|oxidoreductases', 'mpstruc|transmembrane-proteins-alpha-helical'],\n",
       "  ['mpstruc|electron-transport-chain-complexes-complex-i',\n",
       "   'mpstruc|transmembrane-proteins-alpha-helical'],\n",
       "  ['mpstruc|electron-transport-chain-complexes-complex-ii',\n",
       "   'mpstruc|transmembrane-proteins-alpha-helical'],\n",
       "  ['mpstruc|electron-transport-chain-complexes-complex-iii-cytochrome-bc-sub-1-sub',\n",
       "   'mpstruc|transmembrane-proteins-alpha-helical'],\n",
       "  ['mpstruc|electron-transport-chain-complexes-cytochrome-b-sub-6-sub-f-of-oxygenic-photosynthesis',\n",
       "   'mpstruc|transmembrane-proteins-alpha-helical'],\n",
       "  ['mpstruc|electron-transport-chain-complexes-complex-iv-cytochrome-c-oxidase',\n",
       "   'mpstruc|transmembrane-proteins-alpha-helical'],\n",
       "  ['mpstruc|nitric-oxide-reductases',\n",
       "   'mpstruc|transmembrane-proteins-alpha-helical'],\n",
       "  ['mpstruc|photosystems', 'mpstruc|transmembrane-proteins-alpha-helical'],\n",
       "  ['mpstruc|photoprotection-proteins',\n",
       "   'mpstruc|transmembrane-proteins-alpha-helical'],\n",
       "  ['mpstruc|light-harvesting-complexes',\n",
       "   'mpstruc|transmembrane-proteins-alpha-helical'],\n",
       "  ['mpstruc|photosynthetic-reaction-centers',\n",
       "   'mpstruc|transmembrane-proteins-alpha-helical'],\n",
       "  ['mpstruc|light-harvesting-reaction-center-complexes',\n",
       "   'mpstruc|transmembrane-proteins-alpha-helical'],\n",
       "  ['mpstruc|phosphatidic-acid-phosphatases',\n",
       "   'mpstruc|transmembrane-proteins-alpha-helical'],\n",
       "  ['mpstruc|translocator-protein-18-kda-tspo',\n",
       "   'mpstruc|transmembrane-proteins-alpha-helical'],\n",
       "  ['mpstruc|ubia-prenyltransferases',\n",
       "   'mpstruc|transmembrane-proteins-alpha-helical'],\n",
       "  ['mpstruc|protein-4wis', 'mpstruc|tmem16-family-proteins'],\n",
       "  ['PDB|4wis', 'mpstruc|protein-4wis'],\n",
       "  ['PDB|4wit', 'mpstruc|protein-4wis']],\n",
       " 'updated_at': 1485117611.092187}"
      ]
     },
     "execution_count": 6,
     "metadata": {},
     "output_type": "execute_result"
    }
   ],
   "source": [
    "def get_memprotmd_reference(db, accession):\n",
    "    return requests.post(\n",
    "        MEMPROTMD_ROOT_URI \n",
    "        + \"api/references/{db}/{accession}\".format(\n",
    "            db=db, accession=accession\n",
    "        )).json()\n",
    "get_memprotmd_reference(\"PDB\", \"4wit\")"
   ]
  },
  {
   "cell_type": "markdown",
   "metadata": {
    "deletable": true,
    "editable": true
   },
   "source": [
    "You can also pass in a list of references to get more detailed (although not full) data:"
   ]
  },
  {
   "cell_type": "code",
   "execution_count": 7,
   "metadata": {
    "collapsed": false,
    "deletable": true,
    "editable": true
   },
   "outputs": [
    {
     "data": {
      "text/plain": [
       "[{'_id': 'PDB|1a0s',\n",
       "  'accession': '1a0s',\n",
       "  'db': 'PDB',\n",
       "  'experimental_method': 'X-RAY DIFFRACTION',\n",
       "  'first_published': '1998-06-10',\n",
       "  'n_simulations': 1,\n",
       "  'resolution': '2.4',\n",
       "  'subtitle': 'SUCROSE-SPECIFIC PORIN',\n",
       "  'title': 'ScrY sucrose-specific porin'},\n",
       " {'_id': 'PDB|1bcc',\n",
       "  'accession': '1bcc',\n",
       "  'db': 'PDB',\n",
       "  'experimental_method': 'X-RAY DIFFRACTION',\n",
       "  'first_published': '1998-08-19',\n",
       "  'n_simulations': 1,\n",
       "  'resolution': '3.16',\n",
       "  'subtitle': 'CYTOCHROME BC1 COMPLEX FROM CHICKEN',\n",
       "  'title': 'Cytochrome bc<sub>1</sub>'}]"
      ]
     },
     "execution_count": 7,
     "metadata": {},
     "output_type": "execute_result"
    }
   ],
   "source": [
    "def get_memprotmd_reference_list(list_of_references):\n",
    "    return requests.post(\n",
    "        \n",
    "        MEMPROTMD_ROOT_URI \n",
    "        + \"api/references/from_list\",\n",
    "        \n",
    "        json={\"ids\" : list_of_references}\n",
    "        \n",
    "    ).json()\n",
    "get_memprotmd_reference_list([\"PDB|1a0s\", \"PDB|1bcc\"])"
   ]
  },
  {
   "cell_type": "markdown",
   "metadata": {
    "deletable": true,
    "editable": true
   },
   "source": [
    "#### Searching MemProtMD\n",
    "\n",
    "**Simple Search** POST to http://memprotmd.bioch.ox.ac.uk/api/search/simple with a JSON object in the POST body. The JSON object should contain a `searchTerm` (the string to search for) and may contain `numResults` - the number of results to send, `inDatabases` - a list of databases to look in and `sizeBias`, which controls how much the number of members a reference has should increase its relevance. Higher values will bias the search towards references with more members."
   ]
  },
  {
   "cell_type": "code",
   "execution_count": 8,
   "metadata": {
    "collapsed": false,
    "deletable": true,
    "editable": true
   },
   "outputs": [
    {
     "data": {
      "text/plain": [
       "[{'_id': 'mpm|gpcrs',\n",
       "  'accession': 'gpcrs',\n",
       "  'db': 'mpm',\n",
       "  'fullscore': 1663.3,\n",
       "  'score': 3.3000000000000003,\n",
       "  'size': 166,\n",
       "  'title': 'G protein–coupled receptors (GPCRs)'},\n",
       " {'_id': 'Pfam|PF00001',\n",
       "  'accession': 'PF00001',\n",
       "  'db': 'Pfam',\n",
       "  'fullscore': 1540.828947368421,\n",
       "  'score': 0.8289473684210525,\n",
       "  'size': 154,\n",
       "  'subtitle': '7tm_1',\n",
       "  'title': '7 transmembrane receptor (rhodopsin family)'}]"
      ]
     },
     "execution_count": 8,
     "metadata": {},
     "output_type": "execute_result"
    }
   ],
   "source": [
    "def memprotmd_text_search(\n",
    "            search_term, \n",
    "            in_databases=[\"PDB\", \"mpm\", \"TCDB\", \"GO\", \"Pfam\"], \n",
    "            size_bias=0.1,\n",
    "            n_results=10):\n",
    "    \n",
    "    return requests.post(\n",
    "        \n",
    "        MEMPROTMD_ROOT_URI \n",
    "        + \"api/search/simple\",\n",
    "        \n",
    "        json={\n",
    "            \"searchTerm\" : search_term,\n",
    "            \"inDatabases\" : in_databases,\n",
    "            \"numResults\" : n_results,\n",
    "            \"sizeBias\" : size_bias\n",
    "        }\n",
    "        \n",
    "    ).json()\n",
    "\n",
    "memprotmd_text_search(\"gpcr\", n_results=2, size_bias=10)"
   ]
  },
  {
   "cell_type": "markdown",
   "metadata": {
    "deletable": true,
    "editable": true
   },
   "source": [
    "**Advanced Search** This is where things get fun (for MongoDB nerds like Tom). Advanced Search allows you to directly query the MongoDB dataset with a few restrictions:\n",
    "\n",
    "- We only permit a few dollar operators to be used. If you'd like to use one we're currently blocking, get in touch and we'll consider adding it. At present we allow `$or`, `$and`, `$ne`, `$eq`, `$lt`, `$gt`, `$not`, `$nin`, `$in` and `$elemMatch`.\n",
    "\n",
    "- You'll only be able to access the **refs**, **simulations** and **authors** collections. Sadly we've had to make the **shocking_secrets**, **banking_passwords** and **unpublished_structures** collections unavailable for the moment.\n",
    "\n",
    "- **We're watching you.** Be kind to our server or you'll be blocked for a few minutes.\n",
    "\n",
    "There are four parts to an advanced search. These should be familiar to anyone who's used MongoDB before:\n",
    "\n",
    "- Name of the collection to query\n",
    "- Query object\n",
    "- Projection object\n",
    "- Options object (e.g. sort, limit and skip)\n",
    "\n",
    "As an example, let's find all the records with a chain containing seven transmembrane alpha helices, return only the id, chainID, number of alpha helical elements and number of lipid molecules, then sort by the number of lipid molecules (ascending) and show the first one."
   ]
  },
  {
   "cell_type": "code",
   "execution_count": 9,
   "metadata": {
    "collapsed": false,
    "deletable": true,
    "editable": true
   },
   "outputs": [
    {
     "data": {
      "text/plain": [
       "[{'_id': '5b35_default_dppc',\n",
       "  'chains': [{'chainID': 'A', 'tm_alpha': 7}],\n",
       "  'sim_validate': {'n_lipid_molecules': 96}}]"
      ]
     },
     "execution_count": 9,
     "metadata": {},
     "output_type": "execute_result"
    }
   ],
   "source": [
    "def memprotmd_advanced_search(collection_name, query, projection, options):\n",
    "    \n",
    "    return requests.post(\n",
    "        \n",
    "        MEMPROTMD_ROOT_URI \n",
    "        + \"api/search/advanced\",\n",
    "        \n",
    "        json={\n",
    "            \"collectionName\" : collection_name,\n",
    "            \"query\" : query,\n",
    "            \"projection\" : projection,\n",
    "            \"options\" : options\n",
    "        }\n",
    "        \n",
    "    ).json()\n",
    "\n",
    "memprotmd_advanced_search(\n",
    "    \n",
    "    # Use the simulation collection\n",
    "    \"simulations\",\n",
    "    \n",
    "    # Look in the chains array of each simulation and see if\n",
    "    # any element in the array has the field tm_alpha equal to 7\n",
    "    {\n",
    "        \"chains\" : {\n",
    "            \"$elemMatch\" : {\n",
    "                \"tm_alpha\" : 7\n",
    "            }\n",
    "        }\n",
    "    },\n",
    "    \n",
    "    # Projection - choose the fields to return. ID is returned\n",
    "    # by default.\n",
    "    {\n",
    "        \"chains.tm_alpha\" : 1, \n",
    "        \"chains.chainID\" : 1, \n",
    "        \"sim_validate.n_lipid_molecules\" : 1\n",
    "    },\n",
    "    \n",
    "    # Options - sort and then limit\n",
    "    {\n",
    "        \"sort\" : {\n",
    "            \"sim_validate.n_lipid_molecules\" : 1\n",
    "        }, \n",
    "        \"limit\" : 1\n",
    "    }\n",
    ")"
   ]
  },
  {
   "cell_type": "markdown",
   "metadata": {
    "deletable": true,
    "editable": true
   },
   "source": [
    "Alternatively let's have an open query and projection which includes everything. I'm kind to servers and don't like being blocked so I only return the first one (you can definitely get away with occasionally pulling the entire dataset, but please limit your queries where possible!)."
   ]
  },
  {
   "cell_type": "code",
   "execution_count": 10,
   "metadata": {
    "collapsed": false,
    "deletable": true,
    "editable": true
   },
   "outputs": [
    {
     "data": {
      "text/plain": [
       "[{'_id': 'PDB|1a0s',\n",
       "  'accession': '1a0s',\n",
       "  'all_authors': ['Wacker, T.',\n",
       "   'Kreutz, W.',\n",
       "   'Welte, W.',\n",
       "   'Diederichs, K.',\n",
       "   'Benz, R.',\n",
       "   'Schulein, K.',\n",
       "   'Forst, D.'],\n",
       "  'copyright': {'license': 'PDB',\n",
       "   'origin': 'http://www.rcsb.org/pdb/explore/explore.do?structureId=1a0s',\n",
       "   'owner': 'Research Collaboration for Structural Biology, Wacker, T., Welte, W., Diederichs, K., Forst, D.',\n",
       "   'terms': 'http://www.rcsb.org/pdb/static.do?p=general_information/about_pdb/pdb_advisory.html'},\n",
       "  'db': 'PDB',\n",
       "  'db_version': '2017-02-07T03:45:49',\n",
       "  'entities': [{'chains': ['P', 'Q', 'R'],\n",
       "    'description': 'Sucrose porin',\n",
       "    'refs': [{'accession': 'P22340',\n",
       "      'db': 'UniProt',\n",
       "      'key': 'UniProt|P22340',\n",
       "      'valid': True}],\n",
       "    'type': 'protein'}],\n",
       "  'experimental_method': 'X-RAY DIFFRACTION',\n",
       "  'first_published': '1998-06-10',\n",
       "  'href': 'http://www.rcsb.org/pdb/explore/explore.do?structureId=1a0s',\n",
       "  'in_collections': [{'accession': '1',\n",
       "    'db': 'TCDB',\n",
       "    'key': 'TCDB|1',\n",
       "    'level': 1},\n",
       "   {'accession': '1.B', 'db': 'TCDB', 'key': 'TCDB|1.B', 'level': 2},\n",
       "   {'accession': '1.B.3', 'db': 'TCDB', 'key': 'TCDB|1.B.3', 'level': 3},\n",
       "   {'accession': '1.B.3.1', 'db': 'TCDB', 'key': 'TCDB|1.B.3.1', 'level': 4},\n",
       "   {'accession': '1.B.3.1.2',\n",
       "    'db': 'TCDB',\n",
       "    'key': 'TCDB|1.B.3.1.2',\n",
       "    'level': 5},\n",
       "   {'accession': 'protein-1a0t',\n",
       "    'db': 'mpstruc',\n",
       "    'key': 'mpstruc|protein-1a0t',\n",
       "    'level': 4},\n",
       "   {'accession': 'beta-barrel-membrane-proteins-porins-and-relatives',\n",
       "    'db': 'mpstruc',\n",
       "    'key': 'mpstruc|beta-barrel-membrane-proteins-porins-and-relatives',\n",
       "    'level': 3},\n",
       "   {'accession': 'transmembrane-proteins-beta-barrel',\n",
       "    'db': 'mpstruc',\n",
       "    'key': 'mpstruc|transmembrane-proteins-beta-barrel',\n",
       "    'level': 2},\n",
       "   {'accession': 'mpstruc',\n",
       "    'db': 'mpstruc',\n",
       "    'key': 'mpstruc|mpstruc',\n",
       "    'level': 1},\n",
       "   {'accession': 'P22340',\n",
       "    'chains': ['Q', 'P', 'R'],\n",
       "    'db': 'UniProt',\n",
       "    'key': 'UniProt|P22340'},\n",
       "   {'accession': 'GO:0009279',\n",
       "    'chains': ['Q', 'P', 'R'],\n",
       "    'db': 'GO',\n",
       "    'key': 'GO|GO:0009279'},\n",
       "   {'accession': 'GO:0046930',\n",
       "    'chains': ['Q', 'P', 'R'],\n",
       "    'db': 'GO',\n",
       "    'key': 'GO|GO:0046930'},\n",
       "   {'accession': 'GO:0015288',\n",
       "    'chains': ['Q', 'P', 'R'],\n",
       "    'db': 'GO',\n",
       "    'key': 'GO|GO:0015288'},\n",
       "   {'accession': 'GO:0008643',\n",
       "    'chains': ['Q', 'P', 'R'],\n",
       "    'db': 'GO',\n",
       "    'key': 'GO|GO:0008643'},\n",
       "   {'accession': 'GO:0006811',\n",
       "    'chains': ['Q', 'P', 'R'],\n",
       "    'db': 'GO',\n",
       "    'key': 'GO|GO:0006811'},\n",
       "   {'accession': 'PF02264',\n",
       "    'chains': ['Q', 'P', 'R'],\n",
       "    'db': 'Pfam',\n",
       "    'key': 'Pfam|PF02264'},\n",
       "   {'accession': 'PF11471',\n",
       "    'chains': ['Q', 'P', 'R'],\n",
       "    'db': 'Pfam',\n",
       "    'key': 'Pfam|PF11471'},\n",
       "   {'accession': 'membrane_proteins',\n",
       "    'db': 'mpm',\n",
       "    'key': 'mpm|membrane_proteins',\n",
       "    'score': 100},\n",
       "   {'accession': 'outer_membrane_proteins',\n",
       "    'db': 'mpm',\n",
       "    'key': 'mpm|outer_membrane_proteins',\n",
       "    'score': 260},\n",
       "   {'accession': 'beta_barrel',\n",
       "    'db': 'mpm',\n",
       "    'key': 'mpm|beta_barrel',\n",
       "    'score': 430}],\n",
       "  'is_structure': True,\n",
       "  'keywords': ['outer membrane protein', 'porin'],\n",
       "  'keywords_string': 'Outer Membrane Protein, Porin',\n",
       "  'ligands': [{'description': 'CALCIUM ION', 'ligand_id': 'CA'}],\n",
       "  'mpm_type': 'structure',\n",
       "  'n_simulations': 1,\n",
       "  'needs_update': False,\n",
       "  'organism': {'common_name': None,\n",
       "   'count': 1,\n",
       "   'scientific_name': 'Salmonella typhimurium',\n",
       "   'taxon_ncbi': '90371'},\n",
       "  'parent': 'mpstruc|protein-1a0t',\n",
       "  'primary_authors': ['Wacker, T.',\n",
       "   'Welte, W.',\n",
       "   'Diederichs, K.',\n",
       "   'Forst, D.'],\n",
       "  'primary_citation': {'DOI': '10.1038/nsb0198-37',\n",
       "   'journal': 'Nat.Struct.Biol.',\n",
       "   'title': 'Structure of the sucrose-specific porin ScrY from Salmonella typhimurium and its complex with sucrose.',\n",
       "   'year': '1998'},\n",
       "  'ref_key': 'PDB|1a0s',\n",
       "  'resolution': '2.4',\n",
       "  'sim_chains_meta': [{'chainID': 'Q',\n",
       "    'tm': 'membrane spanning',\n",
       "    'tm_ss': 'beta'},\n",
       "   {'chainID': 'P', 'tm': 'membrane spanning', 'tm_ss': 'beta'},\n",
       "   {'chainID': 'R', 'tm': 'membrane spanning', 'tm_ss': 'beta'}],\n",
       "  'simulations': ['1a0s_default_dppc'],\n",
       "  'subcellular_location': ['Cell outer membrane'],\n",
       "  'subtitle': 'SUCROSE-SPECIFIC PORIN',\n",
       "  'title': 'ScrY sucrose-specific porin',\n",
       "  'tree': 'mpstruc',\n",
       "  'updated_at': 1485107167.114442}]"
      ]
     },
     "execution_count": 10,
     "metadata": {},
     "output_type": "execute_result"
    }
   ],
   "source": [
    "memprotmd_advanced_search(\n",
    "    \"refs\",\n",
    "    {},\n",
    "    {},\n",
    "    {\"limit\" : 1})"
   ]
  },
  {
   "cell_type": "code",
   "execution_count": 11,
   "metadata": {
    "collapsed": false,
    "deletable": true,
    "editable": true
   },
   "outputs": [
    {
     "data": {
      "text/plain": [
       "[{'_id': '4jbw_default_dppc',\n",
       "  'accession': '4jbw',\n",
       "  'chains': [{'chainID': 'A',\n",
       "    'count': 1,\n",
       "    'tm_alpha': 0,\n",
       "    'tm_alpha_lipid': 0,\n",
       "    'tm_alpha_protein': 0,\n",
       "    'tm_alpha_solvent': 0,\n",
       "    'tm_beta': 0,\n",
       "    'tm_beta_lipid': 0,\n",
       "    'tm_beta_protein': 0,\n",
       "    'tm_beta_solvent': 0,\n",
       "    'type': 'touching'},\n",
       "   {'chainID': 'B',\n",
       "    'count': 1,\n",
       "    'tm_alpha': 0,\n",
       "    'tm_alpha_lipid': 0,\n",
       "    'tm_alpha_protein': 0,\n",
       "    'tm_alpha_solvent': 0,\n",
       "    'tm_beta': 0,\n",
       "    'tm_beta_lipid': 0,\n",
       "    'tm_beta_protein': 0,\n",
       "    'tm_beta_solvent': 0,\n",
       "    'type': 'touching'},\n",
       "   {'chainID': 'F',\n",
       "    'count': 1,\n",
       "    'tm_alpha': 8,\n",
       "    'tm_alpha_lipid': 8,\n",
       "    'tm_alpha_protein': 0,\n",
       "    'tm_alpha_solvent': 0,\n",
       "    'tm_beta': 0,\n",
       "    'tm_beta_lipid': 0,\n",
       "    'tm_beta_protein': 0,\n",
       "    'tm_beta_solvent': 0,\n",
       "    'type': 'membrane spanning'},\n",
       "   {'chainID': 'G',\n",
       "    'count': 1,\n",
       "    'tm_alpha': 6,\n",
       "    'tm_alpha_lipid': 5,\n",
       "    'tm_alpha_protein': 0,\n",
       "    'tm_alpha_solvent': 1,\n",
       "    'tm_beta': 0,\n",
       "    'tm_beta_lipid': 0,\n",
       "    'tm_beta_protein': 0,\n",
       "    'tm_beta_solvent': 0,\n",
       "    'type': 'membrane spanning'},\n",
       "   {'chainID': 'M',\n",
       "    'count': 1,\n",
       "    'tm_alpha': 0,\n",
       "    'tm_alpha_lipid': 0,\n",
       "    'tm_alpha_protein': 0,\n",
       "    'tm_alpha_solvent': 0,\n",
       "    'tm_beta': 0,\n",
       "    'tm_beta_lipid': 0,\n",
       "    'tm_beta_protein': 0,\n",
       "    'tm_beta_solvent': 0,\n",
       "    'type': 'no membrane'},\n",
       "   {'chainID': 'N',\n",
       "    'count': 1,\n",
       "    'tm_alpha': 0,\n",
       "    'tm_alpha_lipid': 0,\n",
       "    'tm_alpha_protein': 0,\n",
       "    'tm_alpha_solvent': 0,\n",
       "    'tm_beta': 0,\n",
       "    'tm_beta_lipid': 0,\n",
       "    'tm_beta_protein': 0,\n",
       "    'tm_beta_solvent': 0,\n",
       "    'type': 'no membrane'}],\n",
       "  'composition': {'DPPC': 100},\n",
       "  'db': 'PDB',\n",
       "  'db_version': '2017-02-07T03:45:49',\n",
       "  'images': {'bottom-cartoon': 'simulations/4jbw_default_dppc/images/bottom-cartoon.jpg',\n",
       "   'bottom-distortions': 'simulations/4jbw_default_dppc/images/bottom-distortions.jpg',\n",
       "   'front-at_lipids': 'simulations/4jbw_default_dppc/images/front-at_lipids.jpg',\n",
       "   'front-cartoon': 'simulations/4jbw_default_dppc/images/front-cartoon.jpg',\n",
       "   'front-cg_lipids': 'simulations/4jbw_default_dppc/images/front-cg_lipids.jpg',\n",
       "   'front-contacts-head-cartoon': 'simulations/4jbw_default_dppc/images/front-contacts-head-cartoon.jpg',\n",
       "   'front-contacts-head-surface': 'simulations/4jbw_default_dppc/images/front-contacts-head-surface.jpg',\n",
       "   'front-contacts-solvent-cartoon': 'simulations/4jbw_default_dppc/images/front-contacts-solvent-cartoon.jpg',\n",
       "   'front-contacts-solvent-surface': 'simulations/4jbw_default_dppc/images/front-contacts-solvent-surface.jpg',\n",
       "   'front-contacts-tail-cartoon': 'simulations/4jbw_default_dppc/images/front-contacts-tail-cartoon.jpg',\n",
       "   'front-contacts-tail-surface': 'simulations/4jbw_default_dppc/images/front-contacts-tail-surface.jpg',\n",
       "   'front-distortions': 'simulations/4jbw_default_dppc/images/front-distortions.jpg',\n",
       "   'thumb_100': 'simulations/4jbw_default_dppc/images/thumb_100.jpg',\n",
       "   'thumb_250': 'simulations/4jbw_default_dppc/images/thumb_250.jpg',\n",
       "   'thumb_50': 'simulations/4jbw_default_dppc/images/thumb_50.jpg',\n",
       "   'top-cartoon': 'simulations/4jbw_default_dppc/images/top-cartoon.jpg',\n",
       "   'top-distortions': 'simulations/4jbw_default_dppc/images/top-distortions.jpg'},\n",
       "  'last_update_time': 1392646060,\n",
       "  'leaflet_summary': {'lower': 0.5150218278107779,\n",
       "   'n_lower_to_upper': 0,\n",
       "   'n_upper_to_lower': 0,\n",
       "   'upper': 0.4848522149860445},\n",
       "  'n_chains': 6,\n",
       "  'ref_key': 'PDB|4jbw',\n",
       "  'sim_complete_time': 1478816920,\n",
       "  'sim_validate': {'n_frames': 4001,\n",
       "   'n_lipid_molecules': 699,\n",
       "   'n_protein_residues': 1818,\n",
       "   'tm_span': 40},\n",
       "  'thinning': {'annular_mid': 121.77197647094727,\n",
       "   'annular_thickness': 37.161460876464844,\n",
       "   'bulk_mid': 121.63355255126953,\n",
       "   'bulk_thickness': 39.87504577636719,\n",
       "   'mid_diff': 0.13842391967773438,\n",
       "   'thickness_diff': -2.7135848999023438}}]"
      ]
     },
     "execution_count": 11,
     "metadata": {},
     "output_type": "execute_result"
    }
   ],
   "source": [
    "memprotmd_advanced_search(\n",
    "    \"simulations\",\n",
    "    {},\n",
    "    {},\n",
    "    {\"limit\" : 1})"
   ]
  },
  {
   "cell_type": "code",
   "execution_count": 12,
   "metadata": {
    "collapsed": false,
    "deletable": true,
    "editable": true
   },
   "outputs": [
    {
     "data": {
      "text/plain": [
       "[{'_id': 'Rodriguez, F.',\n",
       "  'author_on': ['PDB|2lzr', 'PDB|4b4a'],\n",
       "  'copublished_with': [{'count': 2, 'id': 'Berks, B.C.'},\n",
       "   {'count': 1, 'id': 'Palmer, T.'},\n",
       "   {'count': 1, 'id': 'Sansom, M.S.'},\n",
       "   {'count': 1, 'id': 'Tait, C.E.'},\n",
       "   {'count': 1, 'id': 'Stansfeld, P.J.'},\n",
       "   {'count': 1, 'id': 'Mcdowell, M.A.'},\n",
       "   {'count': 1, 'id': 'Johnson, S.'},\n",
       "   {'count': 1, 'id': 'Liu, S.'},\n",
       "   {'count': 1, 'id': 'Timmel, C.R.'},\n",
       "   {'count': 1, 'id': 'Krehenbrink, M.'},\n",
       "   {'count': 1, 'id': 'Graham, J.E.'},\n",
       "   {'count': 1, 'id': 'Schnell, J.R.'},\n",
       "   {'count': 1, 'id': 'Lea, S.M.'},\n",
       "   {'count': 1, 'id': 'Rouse, S.L.'},\n",
       "   {'count': 1, 'id': 'Roversi, P.'},\n",
       "   {'count': 1, 'id': 'Hogbom, M.'},\n",
       "   {'count': 1, 'id': 'Harmer, J.'},\n",
       "   {'count': 1, 'id': 'Jager, F.'},\n",
       "   {'count': 1, 'id': 'Sansom, M.S.P.'},\n",
       "   {'count': 1, 'id': 'De Riso, A.'},\n",
       "   {'count': 1, 'id': 'Robinson, C.V.'},\n",
       "   {'count': 1, 'id': 'Marcoux, J.'},\n",
       "   {'count': 1, 'id': 'Tarry, M.J.'},\n",
       "   {'count': 1, 'id': 'Rollauer, S.E.'},\n",
       "   {'count': 1, 'id': 'Jaaskelainen, M.'},\n",
       "   {'count': 1, 'id': 'Lukey, M.J.'}],\n",
       "  'db_version': '2017-02-07T03:45:49',\n",
       "  'n_structures': 2}]"
      ]
     },
     "execution_count": 12,
     "metadata": {},
     "output_type": "execute_result"
    }
   ],
   "source": [
    "memprotmd_advanced_search(\n",
    "    \"authors\",\n",
    "    {},\n",
    "    {},\n",
    "    {\"limit\" : 1})"
   ]
  },
  {
   "cell_type": "markdown",
   "metadata": {
    "deletable": true,
    "editable": true
   },
   "source": [
    "If it didn't work our server will be as helpful as possible:"
   ]
  },
  {
   "cell_type": "code",
   "execution_count": 13,
   "metadata": {
    "collapsed": false,
    "deletable": true,
    "editable": true
   },
   "outputs": [
    {
     "data": {
      "text/plain": [
       "{'forbidden': '$doSomethingShady is not permitted.'}"
      ]
     },
     "execution_count": 13,
     "metadata": {},
     "output_type": "execute_result"
    }
   ],
   "source": [
    "memprotmd_advanced_search(\n",
    "    \"authors\",\n",
    "    {\"$doSomethingShady\" : \"secrets\"},\n",
    "    {},\n",
    "    {\"limit\" : 1})"
   ]
  },
  {
   "cell_type": "markdown",
   "metadata": {
    "deletable": true,
    "editable": true
   },
   "source": [
    "### Data API\n",
    "\n",
    "The Data API behaves like a normal filesystem (although we don't provide anything that acts like an index). Make an HTTP GET request and we'll send you the files. These examples use `matplotlib` and `pandas`."
   ]
  },
  {
   "cell_type": "code",
   "execution_count": 14,
   "metadata": {
    "collapsed": false,
    "deletable": true,
    "editable": true
   },
   "outputs": [],
   "source": [
    "% matplotlib inline\n",
    "import pandas"
   ]
  },
  {
   "cell_type": "markdown",
   "metadata": {
    "deletable": true,
    "editable": true
   },
   "source": [
    "Let's have some fun and download the postprocessed (annotated) contacts file for 1a0s_default_dppc, plot a histogram of temperature (&beta;) factors and a line graph of contacts along the amino acid sequence."
   ]
  },
  {
   "cell_type": "code",
   "execution_count": 15,
   "metadata": {
    "collapsed": false,
    "deletable": true,
    "editable": true
   },
   "outputs": [
    {
     "data": {
      "text/plain": [
       "<matplotlib.axes._subplots.AxesSubplot at 0x114da8198>"
      ]
     },
     "execution_count": 15,
     "metadata": {},
     "output_type": "execute_result"
    },
    {
     "data": {
      "image/png": "[encoded data removed]",
      "text/plain": [
       "<matplotlib.figure.Figure at 0x1147be128>"
      ]
     },
     "metadata": {},
     "output_type": "display_data"
    },
    {
     "data": {
      "image/png": "[encoded data removed]",
      "text/plain": [
       "<matplotlib.figure.Figure at 0x114d66a90>"
      ]
     },
     "metadata": {},
     "output_type": "display_data"
    }
   ],
   "source": [
    "def get_resid_contacts(sim_id):\n",
    "    return pandas.read_csv(\n",
    "        MEMPROTMD_ROOT_URI \n",
    "        + \"data/memprotmd/simulations/\"\n",
    "        + sim_id\n",
    "        + \"/files/contacts/by_resid_postprocess.csv\"\n",
    "    )\n",
    "contacts = get_resid_contacts(\"1a0s_default_dppc\")\n",
    "\n",
    "contacts.hist(\"tempFactor\")\n",
    "contacts.plot(\n",
    "    y=[\"group=Tail\", \"group=Head\"], \n",
    "    x=[\"resSeq\"], \n",
    "    color=[\"orange\", \"green\"],\n",
    "    figsize=[15,4])"
   ]
  },
  {
   "cell_type": "markdown",
   "metadata": {
    "deletable": true,
    "editable": true
   },
   "source": [
    "You can also load structures from MemProtMD using mdtraj (or similar product):"
   ]
  },
  {
   "cell_type": "code",
   "execution_count": 16,
   "metadata": {
    "collapsed": false,
    "deletable": true,
    "editable": true
   },
   "outputs": [],
   "source": [
    "import mdtraj as md\n",
    "import nglview as nv"
   ]
  },
  {
   "cell_type": "code",
   "execution_count": 17,
   "metadata": {
    "collapsed": false,
    "deletable": true,
    "editable": true
   },
   "outputs": [],
   "source": [
    "def mdtraj_load_memprotmd(sim_id, structure_name):\n",
    "    traj = md.load_pdb( MEMPROTMD_ROOT_URI \n",
    "                + \"data/memprotmd/simulations/\"\n",
    "                + sim_id\n",
    "                + \"/files/structures/\"\n",
    "                + structure_name\n",
    "                + \".pdb\")\n",
    "    return traj"
   ]
  },
  {
   "cell_type": "code",
   "execution_count": 18,
   "metadata": {
    "collapsed": false,
    "deletable": true,
    "editable": true
   },
   "outputs": [],
   "source": [
    "traj = mdtraj_load_memprotmd(\"1afo_default_dppc\", \"at\")"
   ]
  },
  {
   "cell_type": "code",
   "execution_count": 19,
   "metadata": {
    "collapsed": false,
    "deletable": true,
    "editable": true
   },
   "outputs": [],
   "source": [
    "protein_view = nv.show_mdtraj(traj.atom_slice(traj.topology.select(\"resid < 40\")))\n",
    "protein_view.add_ball_and_stick(opacity=0.5)\n",
    "protein_view"
   ]
  },
  {
   "cell_type": "code",
   "execution_count": 20,
   "metadata": {
    "collapsed": true,
    "deletable": true,
    "editable": true
   },
   "outputs": [],
   "source": [
    "cg_traj = mdtraj_load_memprotmd(\"1afo_default_dppc\", \"cg\")"
   ]
  },
  {
   "cell_type": "code",
   "execution_count": 23,
   "metadata": {
    "collapsed": false,
    "deletable": true,
    "editable": true
   },
   "outputs": [],
   "source": [
    "cg_view = nv.show_mdtraj(cg_traj)\n",
    "cg_view.add_hyperball(radius=4, shrink=0.44, scale=0.6)\n",
    "cg_view"
   ]
  },
  {
   "cell_type": "markdown",
   "metadata": {
    "deletable": true,
    "editable": true
   },
   "source": [
    "You should now have most of the materials you need for some bioinformatics fun!"
   ]
  }
 ],
 "metadata": {
  "kernelspec": {
   "display_name": "Python 3",
   "language": "python",
   "name": "python3"
  },
  "language_info": {
   "codemirror_mode": {
    "name": "ipython",
    "version": 3
   },
   "file_extension": ".py",
   "mimetype": "text/x-python",
   "name": "python",
   "nbconvert_exporter": "python",
   "pygments_lexer": "ipython3",
   "version": "3.4.4"
  },
  "widgets": {
   "state": {
    "00e2d1cb6b0048ea814923b7edddff03": {
     "views": [
      {
       "cell_index": 30
      }
     ]
    },
    "07e93205a4cf4a799f4274ef6b15b8e3": {
     "views": [
      {
       "cell_index": 30
      }
     ]
    },
    "0a7400384c794a9ba24b1700494b6520": {
     "views": [
      {
       "cell_index": 31
      }
     ]
    },
    "0f19e94159194580ad9f3f6eb701f524": {
     "views": [
      {
       "cell_index": 31
      }
     ]
    },
    "10f6d2aa1f504624a8f90339763c94c8": {
     "views": [
      {
       "cell_index": 31
      }
     ]
    },
    "1401381d1f624ad0913980dfd37c520d": {
     "views": [
      {
       "cell_index": 32
      }
     ]
    },
    "1652ddea562b4157a0496c1732a49d25": {
     "views": [
      {
       "cell_index": 31
      }
     ]
    },
    "20d594fe54154a71b63dc19182870af0": {
     "views": [
      {
       "cell_index": 31
      }
     ]
    },
    "24954ae8074a47df8426afec49f304f1": {
     "views": [
      {
       "cell_index": 29
      }
     ]
    },
    "257b5909505944119ce71e9af2dd2be6": {
     "views": [
      {
       "cell_index": 30
      }
     ]
    },
    "2bab499c336b4855b503092bec93de4e": {
     "views": [
      {
       "cell_index": 31
      }
     ]
    },
    "2d72c40530b443a19154dd4a5db1270f": {
     "views": [
      {
       "cell_index": 32
      }
     ]
    },
    "38dfd5ff773a4c6b85c91c3f63eee1af": {
     "views": [
      {
       "cell_index": 31
      }
     ]
    },
    "39736e7d91204cbf938efa4672f742c5": {
     "views": [
      {
       "cell_index": 31
      }
     ]
    },
    "427c28af55ad4f85b96c9072f940bd77": {
     "views": [
      {
       "cell_index": 30
      }
     ]
    },
    "45e9646f1b2c400399e93d5d9f8b7bcb": {
     "views": [
      {
       "cell_index": 32
      }
     ]
    },
    "5320fbd277024c16a121b795ba0a6514": {
     "views": [
      {
       "cell_index": 31
      }
     ]
    },
    "53fe644f8f1c48fe8f46afcdd3fc3720": {
     "views": [
      {
       "cell_index": 31
      }
     ]
    },
    "5488ac18347f4bc08b0c8b8cb41dca75": {
     "views": [
      {
       "cell_index": 31
      }
     ]
    },
    "5cc320aa3bb0405ebdb351ee2bcbf44c": {
     "views": [
      {
       "cell_index": 30
      }
     ]
    },
    "5f8b50e5d182485395aff9ff2703aca0": {
     "views": [
      {
       "cell_index": 31
      }
     ]
    },
    "66bab099e3c54860b03625a79a70ee38": {
     "views": [
      {
       "cell_index": 32
      }
     ]
    },
    "6d52de09620f4f71977a1c81463bac94": {
     "views": [
      {
       "cell_index": 32
      }
     ]
    },
    "6f2421812bb74990814b197f0773f7cb": {
     "views": [
      {
       "cell_index": 31
      }
     ]
    },
    "703e7894f14f4320b72e095e0b8e0fb4": {
     "views": [
      {
       "cell_index": 31
      }
     ]
    },
    "73150be355cb4ad0b101fb988ce4290b": {
     "views": [
      {
       "cell_index": 31
      }
     ]
    },
    "75e3299758244f698913429b3f8319fd": {
     "views": [
      {
       "cell_index": 32
      }
     ]
    },
    "7a6e9ad0cca74fbaa0ffd6a36e84233f": {
     "views": [
      {
       "cell_index": 30
      }
     ]
    },
    "7ff6ecd1ad174176b6b3568dbee1419b": {
     "views": [
      {
       "cell_index": 31
      }
     ]
    },
    "82e488d2c5ad4d54a9295d61c967e43b": {
     "views": [
      {
       "cell_index": 31
      }
     ]
    },
    "853f02b7913c4a07a3b56866e534cd08": {
     "views": [
      {
       "cell_index": 30
      }
     ]
    },
    "8b9c9bba4631451e8dc4e0f2f718cfdc": {
     "views": [
      {
       "cell_index": 32
      }
     ]
    },
    "8d93456fb2584db6a2bef642d8020547": {
     "views": [
      {
       "cell_index": 31
      }
     ]
    },
    "91a123b33d0e447c9f0367eeeb28029d": {
     "views": [
      {
       "cell_index": 31
      }
     ]
    },
    "98566de37bcd47e8a76e93e801637966": {
     "views": [
      {
       "cell_index": 30
      }
     ]
    },
    "a3f703653bfc41f09f35d13627b1d812": {
     "views": [
      {
       "cell_index": 31
      }
     ]
    },
    "aa7cd80ea8e641009370f605c0943dc8": {
     "views": [
      {
       "cell_index": 31
      }
     ]
    },
    "ad30c1a63bf345f39356bef35010454f": {
     "views": [
      {
       "cell_index": 31
      }
     ]
    },
    "b1ae079ed1fe4d80b4c30b5ffaf8f56c": {
     "views": [
      {
       "cell_index": 31
      }
     ]
    },
    "b36b70937efd4cf98331618ede9f7b1e": {
     "views": [
      {
       "cell_index": 31
      }
     ]
    },
    "b9b25f21442a44028c284b81588b1990": {
     "views": [
      {
       "cell_index": 32
      }
     ]
    },
    "bc12a65b4d7f4768b10aa61e627619bc": {
     "views": [
      {
       "cell_index": 32
      }
     ]
    },
    "c5a26170fff2468f81e167b9205a7cf2": {
     "views": [
      {
       "cell_index": 31
      }
     ]
    },
    "cdb456da6cb149018883c98a9eb20f2c": {
     "views": [
      {
       "cell_index": 31
      }
     ]
    },
    "d5a2706c316e4b9f8146685e137b7ec9": {
     "views": [
      {
       "cell_index": 31
      }
     ]
    },
    "dee3485a3ece4e82bfd388f01858598c": {
     "views": [
      {
       "cell_index": 31
      }
     ]
    },
    "e27346d6477b4363b6cbc020d8c9de2d": {
     "views": [
      {
       "cell_index": 32
      }
     ]
    },
    "e74d1fc194054648b63a0f7fa2f82eda": {
     "views": [
      {
       "cell_index": 29
      }
     ]
    },
    "e77474c4012041f99cde46b64df59eed": {
     "views": [
      {
       "cell_index": 30
      }
     ]
    },
    "e9e726d732934a9bb5b05b3c137f1fd8": {
     "views": [
      {
       "cell_index": 31
      }
     ]
    },
    "eb93c20b70ed451d97cf79443a00b41b": {
     "views": [
      {
       "cell_index": 31
      }
     ]
    },
    "ef074f1045304cb69385c85241c2af3b": {
     "views": [
      {
       "cell_index": 31
      }
     ]
    },
    "f2bf802158be43c596226bde0c811f42": {
     "views": [
      {
       "cell_index": 31
      }
     ]
    },
    "f317842387b34c70934688fc096f95c7": {
     "views": [
      {
       "cell_index": 30
      }
     ]
    }
   },
   "version": "1.2.0"
  }
 },
 "nbformat": 4,
 "nbformat_minor": 0
}
